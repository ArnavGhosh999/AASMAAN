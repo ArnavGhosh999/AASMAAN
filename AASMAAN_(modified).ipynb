{
  "nbformat": 4,
  "nbformat_minor": 0,
  "metadata": {
    "colab": {
      "provenance": [],
      "machine_shape": "hm",
      "gpuType": "V5E1"
    },
    "kernelspec": {
      "name": "python3",
      "display_name": "Python 3"
    },
    "language_info": {
      "name": "python"
    },
    "accelerator": "TPU"
  },
  "cells": [
    {
      "cell_type": "markdown",
      "source": [
        "### AASMANN (modified) is leveraging the following methods as mentioned below.\n"
      ],
      "metadata": {
        "id": "1ygfzDstSABc"
      }
    },
    {
      "cell_type": "markdown",
      "source": [
        "\n",
        "\n",
        "*   DPN (Dual Path Network)\n",
        "*   EfficientZERO\n",
        "*   MRD-CNN\n",
        "*   FractalNet\n",
        "*   Blockwise Learning Networks\n",
        "\n"
      ],
      "metadata": {
        "id": "zpJVDfeHRe2O"
      }
    },
    {
      "cell_type": "markdown",
      "source": [
        "1. DPN (DUAL PATH NETWORK)"
      ],
      "metadata": {
        "id": "zHCVbPmcSQRM"
      }
    },
    {
      "cell_type": "code",
      "source": [
        "from google.colab import drive\n",
        "drive.mount('/content/drive')"
      ],
      "metadata": {
        "colab": {
          "base_uri": "https://localhost:8080/"
        },
        "id": "VT0XrAC5R_Br",
        "outputId": "92c4225d-30c6-4db9-f48b-bda20f6da8c0"
      },
      "execution_count": 36,
      "outputs": [
        {
          "output_type": "stream",
          "name": "stdout",
          "text": [
            "Mounted at /content/drive\n"
          ]
        }
      ]
    },
    {
      "cell_type": "code",
      "source": [
        "import os\n",
        "import numpy as np\n",
        "import tensorflow as tf\n",
        "from tensorflow import keras\n",
        "from tensorflow.keras import layers\n",
        "from sklearn.model_selection import train_test_split\n",
        "from tensorflow.keras.preprocessing.image import ImageDataGenerator\n",
        "import matplotlib.pyplot as plt"
      ],
      "metadata": {
        "id": "qSivaxFhSneO"
      },
      "execution_count": 38,
      "outputs": []
    },
    {
      "cell_type": "code",
      "source": [
        "from tensorflow.keras.preprocessing.image import load_img, img_to_array\n",
        "\n",
        "def load_data(image_directory):\n",
        "    images = []\n",
        "    labels = []\n",
        "    class_names = os.listdir(image_directory)\n",
        "\n",
        "    for label_idx, class_name in enumerate(class_names):\n",
        "        class_path = os.path.join(image_directory, class_name)\n",
        "        for image_name in os.listdir(class_path):\n",
        "            image_path = os.path.join(class_path, image_name)\n",
        "            image = load_img(image_path, target_size=(224, 224))\n",
        "            image = img_to_array(image)\n",
        "            images.append(image)\n",
        "            labels.append(label_idx)\n",
        "\n",
        "    images = np.array(images)\n",
        "    labels = np.array(labels)\n",
        "    return images, labels\n",
        "\n",
        "image_directory = \"/content/drive/MyDrive/UCMerced_LandUse/UCMerced_LandUse/Images_converted\"\n",
        "X, y = load_data(image_directory)\n",
        "X = X / 255.0"
      ],
      "metadata": {
        "id": "rp2fO4J0S_GL"
      },
      "execution_count": 39,
      "outputs": []
    },
    {
      "cell_type": "code",
      "source": [
        "X_train, X_temp, y_train, y_temp = train_test_split(X, y, test_size=0.3, random_state=42, stratify=y)\n",
        "X_val, X_test, y_val, y_test = train_test_split(X_temp, y_temp, test_size=0.5, random_state=42, stratify=y_temp)\n",
        "\n",
        "print(f\"Train data: {X_train.shape}, Validation data: {X_val.shape}, Test data: {X_test.shape}\")\n"
      ],
      "metadata": {
        "colab": {
          "base_uri": "https://localhost:8080/"
        },
        "id": "BTKdGk5WTEbW",
        "outputId": "64046c4b-ad11-4fa7-dd34-719b28d5aba3"
      },
      "execution_count": 40,
      "outputs": [
        {
          "output_type": "stream",
          "name": "stdout",
          "text": [
            "Train data: (1470, 224, 224, 3), Validation data: (315, 224, 224, 3), Test data: (315, 224, 224, 3)\n"
          ]
        }
      ]
    },
    {
      "cell_type": "code",
      "source": [
        "def dpn_block(input_tensor, filters, kernel_size=3, stride=1, use_bias=False):\n",
        "    path1 = layers.Conv2D(filters, kernel_size, strides=stride, padding='same', use_bias=use_bias)(input_tensor)\n",
        "    path1 = layers.BatchNormalization()(path1)\n",
        "    path1 = layers.ReLU()(path1)\n",
        "\n",
        "    path2 = layers.DepthwiseConv2D(kernel_size, strides=stride, padding='same', use_bias=use_bias)(input_tensor)\n",
        "    path2 = layers.BatchNormalization()(path2)\n",
        "    path2 = layers.ReLU()(path2)\n",
        "\n",
        "    combined = layers.Concatenate()([path1, path2])\n",
        "    return combined\n",
        "\n",
        "def build_dpn_model(input_shape):\n",
        "    inputs = layers.Input(shape=input_shape)\n",
        "\n",
        "    x = dpn_block(inputs, 64)\n",
        "    x = dpn_block(x, 128)\n",
        "    x = dpn_block(x, 256)\n",
        "\n",
        "    x = layers.GlobalAveragePooling2D()(x)\n",
        "    x = layers.Dense(128, activation='relu')(x)\n",
        "    x = layers.Dropout(0.3)(x)\n",
        "    outputs = layers.Dense(21, activation='softmax')(x)\n",
        "\n",
        "    model = keras.models.Model(inputs, outputs)\n",
        "    return model\n",
        "\n",
        "input_shape = (224, 224, 3)\n",
        "dpn_model = build_dpn_model(input_shape)\n",
        "dpn_model.summary()\n"
      ],
      "metadata": {
        "colab": {
          "base_uri": "https://localhost:8080/"
        },
        "id": "TrgJs6QbTSCf",
        "outputId": "d0a4fe0d-30c0-4c0c-c1ca-c7895a742b70"
      },
      "execution_count": 41,
      "outputs": [
        {
          "output_type": "stream",
          "name": "stdout",
          "text": [
            "Model: \"model\"\n",
            "__________________________________________________________________________________________________\n",
            " Layer (type)                Output Shape                 Param #   Connected to                  \n",
            "==================================================================================================\n",
            " input_1 (InputLayer)        [(None, 224, 224, 3)]        0         []                            \n",
            "                                                                                                  \n",
            " conv2d (Conv2D)             (None, 224, 224, 64)         1728      ['input_1[0][0]']             \n",
            "                                                                                                  \n",
            " depthwise_conv2d (Depthwis  (None, 224, 224, 3)          27        ['input_1[0][0]']             \n",
            " eConv2D)                                                                                         \n",
            "                                                                                                  \n",
            " batch_normalization (Batch  (None, 224, 224, 64)         256       ['conv2d[0][0]']              \n",
            " Normalization)                                                                                   \n",
            "                                                                                                  \n",
            " batch_normalization_1 (Bat  (None, 224, 224, 3)          12        ['depthwise_conv2d[0][0]']    \n",
            " chNormalization)                                                                                 \n",
            "                                                                                                  \n",
            " re_lu (ReLU)                (None, 224, 224, 64)         0         ['batch_normalization[0][0]'] \n",
            "                                                                                                  \n",
            " re_lu_1 (ReLU)              (None, 224, 224, 3)          0         ['batch_normalization_1[0][0]'\n",
            "                                                                    ]                             \n",
            "                                                                                                  \n",
            " concatenate (Concatenate)   (None, 224, 224, 67)         0         ['re_lu[0][0]',               \n",
            "                                                                     're_lu_1[0][0]']             \n",
            "                                                                                                  \n",
            " conv2d_1 (Conv2D)           (None, 224, 224, 128)        77184     ['concatenate[0][0]']         \n",
            "                                                                                                  \n",
            " depthwise_conv2d_1 (Depthw  (None, 224, 224, 67)         603       ['concatenate[0][0]']         \n",
            " iseConv2D)                                                                                       \n",
            "                                                                                                  \n",
            " batch_normalization_2 (Bat  (None, 224, 224, 128)        512       ['conv2d_1[0][0]']            \n",
            " chNormalization)                                                                                 \n",
            "                                                                                                  \n",
            " batch_normalization_3 (Bat  (None, 224, 224, 67)         268       ['depthwise_conv2d_1[0][0]']  \n",
            " chNormalization)                                                                                 \n",
            "                                                                                                  \n",
            " re_lu_2 (ReLU)              (None, 224, 224, 128)        0         ['batch_normalization_2[0][0]'\n",
            "                                                                    ]                             \n",
            "                                                                                                  \n",
            " re_lu_3 (ReLU)              (None, 224, 224, 67)         0         ['batch_normalization_3[0][0]'\n",
            "                                                                    ]                             \n",
            "                                                                                                  \n",
            " concatenate_1 (Concatenate  (None, 224, 224, 195)        0         ['re_lu_2[0][0]',             \n",
            " )                                                                   're_lu_3[0][0]']             \n",
            "                                                                                                  \n",
            " conv2d_2 (Conv2D)           (None, 224, 224, 256)        449280    ['concatenate_1[0][0]']       \n",
            "                                                                                                  \n",
            " depthwise_conv2d_2 (Depthw  (None, 224, 224, 195)        1755      ['concatenate_1[0][0]']       \n",
            " iseConv2D)                                                                                       \n",
            "                                                                                                  \n",
            " batch_normalization_4 (Bat  (None, 224, 224, 256)        1024      ['conv2d_2[0][0]']            \n",
            " chNormalization)                                                                                 \n",
            "                                                                                                  \n",
            " batch_normalization_5 (Bat  (None, 224, 224, 195)        780       ['depthwise_conv2d_2[0][0]']  \n",
            " chNormalization)                                                                                 \n",
            "                                                                                                  \n",
            " re_lu_4 (ReLU)              (None, 224, 224, 256)        0         ['batch_normalization_4[0][0]'\n",
            "                                                                    ]                             \n",
            "                                                                                                  \n",
            " re_lu_5 (ReLU)              (None, 224, 224, 195)        0         ['batch_normalization_5[0][0]'\n",
            "                                                                    ]                             \n",
            "                                                                                                  \n",
            " concatenate_2 (Concatenate  (None, 224, 224, 451)        0         ['re_lu_4[0][0]',             \n",
            " )                                                                   're_lu_5[0][0]']             \n",
            "                                                                                                  \n",
            " global_average_pooling2d (  (None, 451)                  0         ['concatenate_2[0][0]']       \n",
            " GlobalAveragePooling2D)                                                                          \n",
            "                                                                                                  \n",
            " dense (Dense)               (None, 128)                  57856     ['global_average_pooling2d[0][\n",
            "                                                                    0]']                          \n",
            "                                                                                                  \n",
            " dropout (Dropout)           (None, 128)                  0         ['dense[0][0]']               \n",
            "                                                                                                  \n",
            " dense_1 (Dense)             (None, 21)                   2709      ['dropout[0][0]']             \n",
            "                                                                                                  \n",
            "==================================================================================================\n",
            "Total params: 593994 (2.27 MB)\n",
            "Trainable params: 592568 (2.26 MB)\n",
            "Non-trainable params: 1426 (5.57 KB)\n",
            "__________________________________________________________________________________________________\n"
          ]
        }
      ]
    },
    {
      "cell_type": "code",
      "source": [
        "dpn_model.compile(optimizer=keras.optimizers.Adam(learning_rate=0.0001),\n",
        "                  loss='sparse_categorical_crossentropy',\n",
        "                  metrics=['accuracy'])\n"
      ],
      "metadata": {
        "id": "ET5hiRXRTV7n"
      },
      "execution_count": 42,
      "outputs": []
    }
  ]
}